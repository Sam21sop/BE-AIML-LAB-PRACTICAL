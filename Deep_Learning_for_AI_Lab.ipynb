{
  "nbformat": 4,
  "nbformat_minor": 0,
  "metadata": {
    "colab": {
      "provenance": [],
      "authorship_tag": "ABX9TyNpgAHngdwoXUXHi2N7W0+s"
    },
    "kernelspec": {
      "name": "python3",
      "display_name": "Python 3"
    },
    "language_info": {
      "name": "python"
    }
  },
  "cells": [
    {
      "cell_type": "markdown",
      "source": [
        "### Study of Deep Learning Packages: Tensorflow, Keras, Theano and PyTorch. Document the distinctfeatures and functionality of the packages."
      ],
      "metadata": {
        "id": "c_xR9KysY7E6"
      }
    },
    {
      "cell_type": "markdown",
      "source": [
        "Note: Use a suitable dataset forthe implementation of the following assignments."
      ],
      "metadata": {
        "id": "HBo42I3qZFV8"
      }
    },
    {
      "cell_type": "markdown",
      "source": [
        "### Implementing Feed-forward neural networks with Keras and TensorFlow\n"
      ],
      "metadata": {
        "id": "NhyIXJ-BZHic"
      }
    },
    {
      "cell_type": "markdown",
      "source": [
        "**Theory**\n",
        "\n",
        "Feed-forward neural networks are a type of artificial neural network where the information flows in one direction only, from the input layer to the output layer. Each layer of the network consists of a number of neurons, which are connected to the neurons in the next layer.\n",
        "\n",
        "The neurons in each layer perform a non-linear transformation of the input they receive from the previous layer. The output of each neuron is then passed to the next layer, until the output layer is reached.\n",
        "\n",
        "The output layer of the network produces the final output, which is a prediction of the class of the input data.\n",
        "\n",
        "Feed-forward neural networks are trained using a process called supervised learning. In supervised learning, we have a set of training data, which consists of input-output pairs. The goal is to train the network to produce the correct output for"
      ],
      "metadata": {
        "id": "0RGyfoQWuXg1"
      }
    },
    {
      "cell_type": "markdown",
      "source": [
        "a. Import the necessary packages\n",
        "\n"
      ],
      "metadata": {
        "id": "bt9iIQqZtVZD"
      }
    },
    {
      "cell_type": "code",
      "source": [
        "import numpy as np\n",
        "import tensorflow as tf\n",
        "from tensorflow.keras.models import Sequential\n",
        "from tensorflow.keras.layers import Dense\n",
        "from tensorflow.keras.datasets import mnist\n",
        "import matplotlib.pyplot as plt"
      ],
      "metadata": {
        "id": "z85TxQGLZsrb"
      },
      "execution_count": 3,
      "outputs": []
    },
    {
      "cell_type": "markdown",
      "source": [
        "\n",
        "b. Load the training and testing data (MNIST/CIFAR10)\n",
        "\n"
      ],
      "metadata": {
        "id": "T-V6UFmktYCU"
      }
    },
    {
      "cell_type": "code",
      "source": [
        "# Load the MNIST dataset\n",
        "(x_train, y_train), (x_test, y_test) = mnist.load_data()\n",
        "\n",
        "#normalize the input data to range [0, 1]\n",
        "x_train = x_train.astype('float32') / 255.0\n",
        "x_test = x_test.astype('float32') / 255.0\n",
        "\n",
        "#flatten the input data (28 X 28 images to 784 pixels)\n",
        "x_train = x_train.reshape(-1, 784)\n",
        "x_test = x_test.reshape(-1, 784)"
      ],
      "metadata": {
        "id": "yZcxnc1uZskA"
      },
      "execution_count": 5,
      "outputs": []
    },
    {
      "cell_type": "markdown",
      "source": [
        "c. Define the network architecture using Keras\n"
      ],
      "metadata": {
        "id": "I_8gbhSOtaXj"
      }
    },
    {
      "cell_type": "code",
      "source": [
        "model = Sequential()\n",
        "model.add(Dense(128, activation='relu', input_shape=(784,)))\n",
        "model.add(Dense(64, activation='relu'))\n",
        "model.add(Dense(10, activation='softmax'))\n"
      ],
      "metadata": {
        "id": "j4OhWfpStf_D"
      },
      "execution_count": 6,
      "outputs": []
    },
    {
      "cell_type": "markdown",
      "source": [
        "\n",
        "d. Train the model using SGD\n",
        "\n"
      ],
      "metadata": {
        "id": "YcU9H3_gtdQ9"
      }
    },
    {
      "cell_type": "code",
      "source": [
        "# from keras.src.engine.training import optimizer\n",
        "# compile the model\n",
        "model.compile(optimizer='sgd', loss='sparse_categorical_crossentropy', metrics=['accuracy'])\n",
        "\n",
        "# Train the model\n",
        "history = model.fit(x_train, y_train, epochs=10, batch_size=64, validation_split=0.2)\n"
      ],
      "metadata": {
        "id": "ohn4J38Itc5c",
        "colab": {
          "base_uri": "https://localhost:8080/"
        },
        "outputId": "5551ccac-3b3b-48c5-c857-4a5488d89d5e"
      },
      "execution_count": 9,
      "outputs": [
        {
          "output_type": "stream",
          "name": "stdout",
          "text": [
            "Epoch 1/10\n",
            "750/750 [==============================] - 3s 4ms/step - loss: 1.0519 - accuracy: 0.7329 - val_loss: 0.4534 - val_accuracy: 0.8778\n",
            "Epoch 2/10\n",
            "750/750 [==============================] - 4s 5ms/step - loss: 0.4111 - accuracy: 0.8863 - val_loss: 0.3339 - val_accuracy: 0.9061\n",
            "Epoch 3/10\n",
            "750/750 [==============================] - 3s 3ms/step - loss: 0.3354 - accuracy: 0.9050 - val_loss: 0.2917 - val_accuracy: 0.9158\n",
            "Epoch 4/10\n",
            "750/750 [==============================] - 3s 4ms/step - loss: 0.2975 - accuracy: 0.9156 - val_loss: 0.2640 - val_accuracy: 0.9233\n",
            "Epoch 5/10\n",
            "750/750 [==============================] - 3s 4ms/step - loss: 0.2706 - accuracy: 0.9226 - val_loss: 0.2475 - val_accuracy: 0.9298\n",
            "Epoch 6/10\n",
            "750/750 [==============================] - 4s 5ms/step - loss: 0.2491 - accuracy: 0.9296 - val_loss: 0.2285 - val_accuracy: 0.9342\n",
            "Epoch 7/10\n",
            "750/750 [==============================] - 2s 3ms/step - loss: 0.2308 - accuracy: 0.9345 - val_loss: 0.2155 - val_accuracy: 0.9396\n",
            "Epoch 8/10\n",
            "750/750 [==============================] - 3s 4ms/step - loss: 0.2149 - accuracy: 0.9386 - val_loss: 0.2045 - val_accuracy: 0.9425\n",
            "Epoch 9/10\n",
            "750/750 [==============================] - 3s 4ms/step - loss: 0.2013 - accuracy: 0.9418 - val_loss: 0.1947 - val_accuracy: 0.9447\n",
            "Epoch 10/10\n",
            "750/750 [==============================] - 3s 5ms/step - loss: 0.1891 - accuracy: 0.9458 - val_loss: 0.1845 - val_accuracy: 0.9488\n"
          ]
        }
      ]
    },
    {
      "cell_type": "markdown",
      "source": [
        "e. Evaluate the network\n",
        "\n"
      ],
      "metadata": {
        "id": "IL0QENMqtgr7"
      }
    },
    {
      "cell_type": "code",
      "source": [
        "test_loss, test_accuracy = model.evaluate(x_test, y_test)\n",
        "print(f'Test Loss: {test_loss:.4f}')\n",
        "print(f'Test Accuracy: {test_accuracy:.4f}')"
      ],
      "metadata": {
        "id": "TaZULJ0lZsg6",
        "colab": {
          "base_uri": "https://localhost:8080/"
        },
        "outputId": "7d335d81-238a-4bc7-ada3-c2c4d773beac"
      },
      "execution_count": 11,
      "outputs": [
        {
          "output_type": "stream",
          "name": "stdout",
          "text": [
            "313/313 [==============================] - 1s 3ms/step - loss: 0.1823 - accuracy: 0.9467\n",
            "Test Loss: 0.1823\n",
            "Test Accuracy: 0.9467\n"
          ]
        }
      ]
    },
    {
      "cell_type": "markdown",
      "source": [
        "f. Plot the training loss and accuracy"
      ],
      "metadata": {
        "id": "U_7ad3ebti0D"
      }
    },
    {
      "cell_type": "code",
      "source": [
        "train_loss = history.history['loss']\n",
        "val_loss = history.history['val_loss']\n",
        "train_acc = history.history['accuracy']\n",
        "val_acc = history.history['val_accuracy']\n",
        "epochs = range(1, len(train_loss) + 1)"
      ],
      "metadata": {
        "id": "VQsn6Nb4tkdj"
      },
      "execution_count": 15,
      "outputs": []
    },
    {
      "cell_type": "code",
      "source": [
        "plt.figure(figsize=(12, 5))\n",
        "plt.subplot(1, 2, 1)\n",
        "plt.plot(epochs, train_loss, 'b', label='Training Loss')\n",
        "plt.plot(epochs, val_loss, 'r', label='Validation Loss')\n",
        "plt.title('Training and validation Loss')\n",
        "plt.xlabel(\"Epochs\")\n",
        "plt.ylabel(\"Loss\")\n",
        "plt.legend()\n",
        "\n",
        "plt.subplot(1, 2, 2)\n",
        "plt.plot(epochs, train_acc, 'b', label='Training Accuracy')\n",
        "plt.plot(epochs, val_acc, 'b', label='Validation Accuracy')\n",
        "plt.title('Training and Validation Accuracy')\n",
        "plt.xlabel('Epochs')\n",
        "plt.ylabel('Accuracy')\n",
        "plt.legend()\n",
        "\n",
        "plt.tight_layout()\n",
        "plt.show()"
      ],
      "metadata": {
        "id": "KPafbk3JtkO-",
        "colab": {
          "base_uri": "https://localhost:8080/",
          "height": 297
        },
        "outputId": "7236ad2d-4891-46a3-bfa7-102b499bf2d1"
      },
      "execution_count": 16,
      "outputs": [
        {
          "output_type": "display_data",
          "data": {
            "text/plain": [
              "<Figure size 1200x500 with 2 Axes>"
            ],
            "image/png": "[encoded data removed]"
          },
          "metadata": {}
        }
      ]
    },
    {
      "cell_type": "code",
      "source": [],
      "metadata": {
        "id": "VtqHFzq1bfhr"
      },
      "execution_count": null,
      "outputs": []
    },
    {
      "cell_type": "markdown",
      "source": [
        "### Build the Image classification model by dividing the model into the following fourstages:\n"
      ],
      "metadata": {
        "id": "ipv0vnw5ZO2c"
      }
    },
    {
      "cell_type": "markdown",
      "source": [
        "**Theory**\n",
        "\n",
        "Image classification models are typically trained using a supervised learning approach. In supervised learning, we have a set of training data, which consists of input-output pairs. The goal is to train the model to produce the correct output for a given input.\n",
        "\n",
        "In the case of image classification, the input is an image and the output is the class of the image. For example, the input image might be a picture of a cat and the output might be the class \"cat\".\n",
        "\n",
        "The model is trained by feeding it the training images and adjusting its parameters so that it produces the correct output for each image. The training process is typically iterative, meaning that we train the model for a number of epochs, and then evaluate the model’s performance on the validation data. If the model is not performing well on the validation data, we can adjust the model’s parameters and train the model for more epochs.\n",
        "\n",
        "Once the model has been trained, we can estimate its performance on the test data. This involves feeding the test images to the model and measuring the model’s accuracy. The accuracy of the model is the percentage of test images that the model correctly classifies."
      ],
      "metadata": {
        "id": "Oa7n7P3uu_y6"
      }
    },
    {
      "cell_type": "markdown",
      "source": [
        "a. Loading and preprocessing the image data\n",
        "\n"
      ],
      "metadata": {
        "id": "W2dZqgW7vEHK"
      }
    },
    {
      "cell_type": "code",
      "source": [
        "import numpy as np\n",
        "import tensorflow as tf\n",
        "from tensorflow.keras.datasets import cifar10\n",
        "from tensorflow.keras.models import Sequential\n",
        "from tensorflow.keras.layers import Conv2D, MaxPooling2D, Flatten, Dense\n",
        "from tensorflow.keras.utils import to_categorical\n",
        "\n",
        "# Load the MNIST dataset\n",
        "(x_train, y_train), (x_test, y_test) = cifar10.load_data()\n",
        "\n",
        "# Preprocess the image data\n",
        "x_train = x_train.astype('float32') / 255.0\n",
        "x_test = x_test.astype('float32') / 255.0\n",
        "\n",
        "#one hot encoding\n",
        "y_train = to_categorical(y_train, 10)\n",
        "y_test = to_categorical(y_test, 10)"
      ],
      "metadata": {
        "id": "ahhIuVO7Zr0q",
        "colab": {
          "base_uri": "https://localhost:8080/"
        },
        "outputId": "478201c9-4864-4db5-9e49-5c55fefeb962"
      },
      "execution_count": 19,
      "outputs": [
        {
          "output_type": "stream",
          "name": "stdout",
          "text": [
            "Downloading data from https://www.cs.toronto.edu/~kriz/cifar-10-python.tar.gz\n",
            "170498071/170498071 [==============================] - 10s 0us/step\n"
          ]
        }
      ]
    },
    {
      "cell_type": "markdown",
      "source": [
        "b. Defining the model’s architecture\n"
      ],
      "metadata": {
        "id": "7kgBFovAvGIC"
      }
    },
    {
      "cell_type": "code",
      "source": [
        "# Define the model architecture\n",
        "model = Sequential()\n",
        "model.add(Conv2D(32, (3, 3), activation='relu', input_shape=(32, 32, 3)))\n",
        "model.add(MaxPooling2D((2, 2)))\n",
        "model.add(Conv2D(64, (3, 3), activation='relu'))\n",
        "model.add(MaxPooling2D((2, 2)))\n",
        "model.add(Conv2D(64, (3, 3), activation='relu'))\n",
        "model.add(Flatten())\n",
        "model.add(Dense(64, activation='relu'))\n",
        "model.add(Dense(10, activation='softmax'))"
      ],
      "metadata": {
        "id": "CC02OLgDZrx1"
      },
      "execution_count": 20,
      "outputs": []
    },
    {
      "cell_type": "markdown",
      "source": [
        "\n",
        "c. Training the model\n"
      ],
      "metadata": {
        "id": "ZkhFt-b2vIJS"
      }
    },
    {
      "cell_type": "code",
      "source": [
        "# Compile the model\n",
        "model.compile(optimizer='adam', loss='categorical_crossentropy', metrics=['accuracy'])\n",
        "\n",
        "# Train the model\n",
        "history = model.fit(x_train, y_train, epochs=10, batch_size=64, validation_data=(x_test, y_test))"
      ],
      "metadata": {
        "id": "_XEYMJbnZrvE",
        "colab": {
          "base_uri": "https://localhost:8080/"
        },
        "outputId": "778d6226-03ba-4a74-e022-4d38cf65a286"
      },
      "execution_count": 22,
      "outputs": [
        {
          "output_type": "stream",
          "name": "stdout",
          "text": [
            "Epoch 1/10\n",
            "782/782 [==============================] - 73s 93ms/step - loss: 1.5413 - accuracy: 0.4360 - val_loss: 1.2850 - val_accuracy: 0.5384\n",
            "Epoch 2/10\n",
            "782/782 [==============================] - 69s 89ms/step - loss: 1.1884 - accuracy: 0.5786 - val_loss: 1.1246 - val_accuracy: 0.6005\n",
            "Epoch 3/10\n",
            "782/782 [==============================] - 65s 83ms/step - loss: 1.0576 - accuracy: 0.6288 - val_loss: 1.0589 - val_accuracy: 0.6321\n",
            "Epoch 4/10\n",
            "782/782 [==============================] - 64s 82ms/step - loss: 0.9573 - accuracy: 0.6635 - val_loss: 0.9678 - val_accuracy: 0.6577\n",
            "Epoch 5/10\n",
            "782/782 [==============================] - 67s 86ms/step - loss: 0.8804 - accuracy: 0.6913 - val_loss: 0.9588 - val_accuracy: 0.6629\n",
            "Epoch 6/10\n",
            "782/782 [==============================] - 67s 85ms/step - loss: 0.8195 - accuracy: 0.7118 - val_loss: 0.8939 - val_accuracy: 0.6868\n",
            "Epoch 7/10\n",
            "782/782 [==============================] - 83s 106ms/step - loss: 0.7747 - accuracy: 0.7261 - val_loss: 0.9572 - val_accuracy: 0.6739\n",
            "Epoch 8/10\n",
            "782/782 [==============================] - 75s 95ms/step - loss: 0.7275 - accuracy: 0.7451 - val_loss: 0.8591 - val_accuracy: 0.7051\n",
            "Epoch 9/10\n",
            "782/782 [==============================] - 67s 86ms/step - loss: 0.6846 - accuracy: 0.7592 - val_loss: 0.8723 - val_accuracy: 0.6987\n",
            "Epoch 10/10\n",
            "782/782 [==============================] - 77s 98ms/step - loss: 0.6509 - accuracy: 0.7704 - val_loss: 0.8485 - val_accuracy: 0.7130\n"
          ]
        }
      ]
    },
    {
      "cell_type": "markdown",
      "source": [
        "\n",
        "d. Estimating the model’s performance"
      ],
      "metadata": {
        "id": "jikRLjxpvKWS"
      }
    },
    {
      "cell_type": "code",
      "source": [
        "# Evaluate the model\n",
        "test_loss, test_accuracy = model.evaluate(x_test, y_test)\n",
        "\n",
        "print(f'Test loss: {test_loss:.4f}')\n",
        "print(f'Test accuracy: {test_accuracy:.4f}')"
      ],
      "metadata": {
        "id": "kbqCffCAvKxy",
        "colab": {
          "base_uri": "https://localhost:8080/"
        },
        "outputId": "85f693f9-7e0c-41d8-e1a3-2b6037be3f53"
      },
      "execution_count": 24,
      "outputs": [
        {
          "output_type": "stream",
          "name": "stdout",
          "text": [
            "313/313 [==============================] - 4s 13ms/step - loss: 0.8485 - accuracy: 0.7130\n",
            "Test loss: 0.8485\n",
            "Test accuracy: 0.7130\n"
          ]
        }
      ]
    },
    {
      "cell_type": "code",
      "source": [],
      "metadata": {
        "id": "6LxGPWADvNJ0"
      },
      "execution_count": null,
      "outputs": []
    },
    {
      "cell_type": "markdown",
      "source": [
        "### Use Autoencoder to implement anomaly detection. Build the model by using the following:\n"
      ],
      "metadata": {
        "id": "hD7cHJKgZXB7"
      }
    },
    {
      "cell_type": "markdown",
      "source": [
        "**Theory**\n",
        "\n",
        "Autoencoders are a type of neural network that is trained to reconstruct its input. The encoder part of the autoencoder compresses the input data into a latent representation, and the decoder part of the autoencoder reconstructs the input data from the latent representation.\n",
        "\n",
        "Autoencoders can be used for anomaly detection by comparing the reconstructed output to the original input. If the reconstruction error is high, then the input data is likely to be anomalous."
      ],
      "metadata": {
        "id": "21mhN8utwOC5"
      }
    },
    {
      "cell_type": "markdown",
      "source": [
        "a. Import required libraries\n",
        "\n"
      ],
      "metadata": {
        "id": "A_H_seeFvxLJ"
      }
    },
    {
      "cell_type": "code",
      "source": [
        "import numpy as np\n",
        "import tensorflow as tf\n",
        "from tensorflow.keras.models import Model\n",
        "from tensorflow.keras.layers import Dense, Input\n",
        "from tensorflow.keras.datasets import mnist\n",
        "from sklearn.model_selection import train_test_split\n",
        "import matplotlib.pyplot as plt"
      ],
      "metadata": {
        "id": "MqYL7tMQZrIT"
      },
      "execution_count": 23,
      "outputs": []
    },
    {
      "cell_type": "markdown",
      "source": [
        "b. Upload/access the dataset\n",
        "\n"
      ],
      "metadata": {
        "id": "UPHUU4m7vzJS"
      }
    },
    {
      "cell_type": "code",
      "source": [
        "(x_train, y_train), (x_test, y_test) = mnist.load_data()"
      ],
      "metadata": {
        "id": "dHU1OGa4ZrFc"
      },
      "execution_count": null,
      "outputs": []
    },
    {
      "cell_type": "markdown",
      "source": [
        "c. The encoder converts it into a latent representation\n",
        "\n"
      ],
      "metadata": {
        "id": "OTt8qyiNv2UC"
      }
    },
    {
      "cell_type": "code",
      "source": [
        "encoder = Sequential([\n",
        "  Dense(128, activation='relu'),\n",
        "  Dense(64, activation='relu'),\n",
        "  Dense(32, activation='relu')\n",
        "])"
      ],
      "metadata": {
        "id": "u6jXs2Svv1zE"
      },
      "execution_count": null,
      "outputs": []
    },
    {
      "cell_type": "markdown",
      "source": [
        "d. Decoder networks convert it back to the original input\n",
        "\n"
      ],
      "metadata": {
        "id": "JWp3nZ8lv4nZ"
      }
    },
    {
      "cell_type": "code",
      "source": [
        "decoder = Sequential([\n",
        "  Dense(64, activation='relu'),\n",
        "  Dense(128, activation='relu'),\n",
        "  Dense(784, activation='sigmoid')\n",
        "])"
      ],
      "metadata": {
        "id": "3tYB00J5v1kK"
      },
      "execution_count": null,
      "outputs": []
    },
    {
      "cell_type": "markdown",
      "source": [
        "e. Compile the models with Optimizer, Loss, and Evaluation Metrics"
      ],
      "metadata": {
        "id": "GcTk-EQWv6m7"
      }
    },
    {
      "cell_type": "code",
      "source": [
        "# Compile the encoder model\n",
        "encoder.compile(optimizer='adam',\n",
        "              loss='sparse_categorical_crossentropy',\n",
        "              metrics=['accuracy'])\n",
        "\n",
        "# Compile the decoder model\n",
        "decoder.compile(optimizer='adam',\n",
        "              loss='sparse_categorical_crossentropy',\n",
        "              metrics=['accuracy'])\n"
      ],
      "metadata": {
        "id": "9o2W8PWZZwZU"
      },
      "execution_count": null,
      "outputs": []
    },
    {
      "cell_type": "markdown",
      "source": [
        "Example"
      ],
      "metadata": {
        "id": "Fsg9JLMYwXFo"
      }
    },
    {
      "cell_type": "code",
      "source": [
        "# Train the autoencoder model\n",
        "autoencoder = Sequential([\n",
        "  encoder,\n",
        "  decoder\n",
        "])\n",
        "\n",
        "autoencoder.fit(train_data, train_data, epochs=10)\n",
        "\n",
        "# Reconstruct the test data\n",
        "reconstructed_test_data = autoencoder.predict(test_data)\n",
        "\n",
        "# Calculate the reconstruction error\n",
        "reconstruction_error = np.mean(np.square(test_data - reconstructed_test_data))\n",
        "\n",
        "# Identify anomalies\n",
        "anomalies = test_data[test_data > reconstruction_error]\n"
      ],
      "metadata": {
        "id": "6f4adKRIv73o"
      },
      "execution_count": null,
      "outputs": []
    },
    {
      "cell_type": "code",
      "source": [],
      "metadata": {
        "id": "MC-zt03EwbKp"
      },
      "execution_count": null,
      "outputs": []
    },
    {
      "cell_type": "markdown",
      "source": [
        "### Implement the Continuous Bag of Words (CBOW) Model. Stages can be:\n"
      ],
      "metadata": {
        "id": "3cf_AA_IZcBK"
      }
    },
    {
      "cell_type": "markdown",
      "source": [
        "**Theory**\n",
        "\n",
        "The Continuous Bag of Words (CBOW) model is a neural network model that is used to generate word embeddings. Word embeddings are vectors of numbers that represent the meaning of words.\n",
        "\n",
        "The CBOW model is trained on a corpus of text. The corpus is split into pairs of words, where the center word is the word that we want to predict and the context words are the words that surround the center word in the text.\n",
        "\n",
        "The CBOW model uses a neural network to predict the center word for each pair of words. The neural network is trained using the backpropagation algorithm.\n",
        "\n",
        "Once the model has been trained, we can use it to generate word embeddings. To generate a word embedding, we feed the word to the neural network and the neural network will output a vector of numbers. This vector of numbers is the word embedding.\n",
        "\n",
        "Word embeddings can be used to perform a variety of tasks, such as text classification, sentiment analysis, and machine translation. For example, we can use word embeddings to train a classifier that can classify text as positive or negative."
      ],
      "metadata": {
        "id": "giZZUBzDwsKA"
      }
    },
    {
      "cell_type": "markdown",
      "source": [
        "a. Data preparation\n",
        "\n"
      ],
      "metadata": {
        "id": "Cd_-rpq1whPu"
      }
    },
    {
      "cell_type": "code",
      "source": [
        "import numpy as np\n",
        "import tensorflow as tf\n",
        "\n",
        "class CBOWModel:\n",
        "  def __init__(self, vocabulary_size, embedding_size):\n",
        "    self.vocabulary_size = vocabulary_size\n",
        "    self.embedding_size = embedding_size\n",
        "\n",
        "    # Create the embedding layer\n",
        "    self.embeddings = tf.Variable(tf.random.normal([vocabulary_size, embedding_size]))\n",
        "\n",
        "  def predict(self, context_words):\n",
        "    # Convert the context words to embedding vectors\n",
        "    context_word_embeddings = tf.nn.embedding_lookup(self.embeddings, context_words)\n",
        "\n",
        "    # Average the context word embeddings\n",
        "    average_context_word_embedding = tf.reduce_mean(context_word_embeddings, axis=0)\n",
        "\n",
        "    # Predict the center word\n",
        "    center_word_prediction = tf.matmul(average_context_word_embedding, tf.transpose(self.embeddings))\n",
        "\n",
        "    return center_word_prediction\n",
        "\n",
        "\n",
        "# Train the CBOW model\n",
        "model = CBOWModel(vocabulary_size=10000, embedding_size=128)"
      ],
      "metadata": {
        "id": "ovUyHSuOZxIq"
      },
      "execution_count": null,
      "outputs": []
    },
    {
      "cell_type": "markdown",
      "source": [
        "b. Generate training data\n",
        "\n"
      ],
      "metadata": {
        "id": "IO6MWZaYwjCY"
      }
    },
    {
      "cell_type": "code",
      "source": [
        "# Generate the training data\n",
        "training_data = []\n",
        "for sentence in corpus:\n",
        "  for i in range(len(sentence) - 2):\n",
        "    context_words = [sentence[i - 1], sentence[i + 1]]\n",
        "    center_word = sentence[i]\n",
        "\n",
        "    training_data.append([context_words, center_word])\n"
      ],
      "metadata": {
        "id": "YA0QfBkyZqMJ"
      },
      "execution_count": null,
      "outputs": []
    },
    {
      "cell_type": "markdown",
      "source": [
        "c. Train model\n",
        "\n"
      ],
      "metadata": {
        "id": "Mxg50ONtwkuJ"
      }
    },
    {
      "cell_type": "code",
      "source": [
        "# Train the model\n",
        "model.fit(training_data, epochs=10)\n",
        "\n",
        "# Generate word embeddings\n",
        "word_embeddings = model.embeddings.numpy()\n"
      ],
      "metadata": {
        "id": "-cujMXMQZqJa"
      },
      "execution_count": null,
      "outputs": []
    },
    {
      "cell_type": "markdown",
      "source": [
        "d. Output"
      ],
      "metadata": {
        "id": "ns3QV8XhwnTZ"
      }
    },
    {
      "cell_type": "code",
      "source": [],
      "metadata": {
        "id": "3vAfLbnZwm_9"
      },
      "execution_count": null,
      "outputs": []
    },
    {
      "cell_type": "code",
      "source": [],
      "metadata": {
        "id": "MokrBoLbwm2Y"
      },
      "execution_count": null,
      "outputs": []
    },
    {
      "cell_type": "markdown",
      "source": [
        "### Object detection using Transfer Learning of CNN architectures\n"
      ],
      "metadata": {
        "id": "JYfwfRK6ZhkU"
      }
    },
    {
      "cell_type": "markdown",
      "source": [
        "**Theory**\n",
        "\n",
        "Transfer learning is a machine learning technique where we use a model that has already been trained on one task to train a model for a different task. This can be useful for tasks where we don't have a lot of training data or where it would be difficult and time-consuming to train a model from scratch.\n",
        "\n",
        "CNNs are a type of neural network that is well-suited for image classification and object detection. CNNs are able to learn to extract features from images that are important for classification and detection.\n",
        "\n",
        "When we use transfer learning to train a CNN for object detection, we start by loading a pre-trained CNN model that has been trained on a large dataset, such as ImageNet. We then freeze the parameters in the model's lower convolutional layers. This will prevent us from overfitting the model to our training data.\n",
        "\n",
        "We then add a custom classifier to the model. This classifier will have several layers of trainable parameters. The classifier will be trained to predict the class of each object in the image.\n",
        "\n",
        "We then train the classifier layers on the training data that we have available for the task. This will enable the model to learn to detect the objects in our training data.\n",
        "\n",
        "We may need to fine-tune the hyperparameters of the model, such as the learning rate and the number of epochs, to get the best possible performance. We may also need to unfreeze more layers of the model if it is not performing well."
      ],
      "metadata": {
        "id": "xB4kp_nexWo3"
      }
    },
    {
      "cell_type": "markdown",
      "source": [
        "a. Load in a pre-trained CNN model trained on a large dataset\n",
        "\n"
      ],
      "metadata": {
        "id": "6z7eRa7GxaWv"
      }
    },
    {
      "cell_type": "code",
      "execution_count": null,
      "metadata": {
        "id": "j2-v9RtnYUb2"
      },
      "outputs": [],
      "source": [
        "import tensorflow as tf\n",
        "from tensorflow.keras.applications import ResNet50\n",
        "from tensorflow.keras.layers import Dense, GlobalAveragePooling2D\n",
        "\n",
        "# Load the pre-trained ResNet50 model\n",
        "model = ResNet50(weights='imagenet', include_top=False)\n"
      ]
    },
    {
      "cell_type": "markdown",
      "source": [
        "b. Freeze parameters(weights) in the model’s lower convolutional layers\n"
      ],
      "metadata": {
        "id": "2eA9_lYMxcbP"
      }
    },
    {
      "cell_type": "code",
      "source": [
        "# Freeze the parameters in the model's lower convolutional layers\n",
        "for layer in model.layers[:10]:\n",
        "  layer.trainable = False\n",
        "\n"
      ],
      "metadata": {
        "id": "_j8cSMb1ZyPW"
      },
      "execution_count": null,
      "outputs": []
    },
    {
      "cell_type": "markdown",
      "source": [
        "\n",
        "c. Add a custom classifier with several layers of trainable parameters to model\n",
        "\n"
      ],
      "metadata": {
        "id": "GXTgWdNnxe57"
      }
    },
    {
      "cell_type": "code",
      "source": [
        "# Add a custom classifier to the model\n",
        "classifier = tf.keras.Sequential([\n",
        "  GlobalAveragePooling2D(),\n",
        "  Dense(128, activation='relu'),\n",
        "  Dense(num_classes, activation='softmax')\n",
        "])\n",
        "\n",
        "# Attach the classifier to the model\n",
        "model.add(classifier)"
      ],
      "metadata": {
        "id": "7NC2ig6JZyMj"
      },
      "execution_count": null,
      "outputs": []
    },
    {
      "cell_type": "markdown",
      "source": [
        "d. Train classifier layers on training data available for the task\n",
        "\n"
      ],
      "metadata": {
        "id": "DB8fYKwGxhEf"
      }
    },
    {
      "cell_type": "code",
      "source": [
        "# Compile the model\n",
        "model.compile(optimizer='adam', loss='sparse_categorical_crossentropy', metrics=['accuracy'])\n",
        "\n",
        "# Train the model on the training data\n",
        "model.fit(x_train, y_train, epochs=10)"
      ],
      "metadata": {
        "id": "dP8BX8ZYxj27"
      },
      "execution_count": null,
      "outputs": []
    },
    {
      "cell_type": "markdown",
      "source": [
        "e. Fine-tune hyperparameters and unfreeze more layers as needed"
      ],
      "metadata": {
        "id": "LCiMswJExkeH"
      }
    },
    {
      "cell_type": "code",
      "source": [
        "# Evaluate the model on the test data\n",
        "test_loss, test_accuracy = model.evaluate(x_test, y_test)\n",
        "\n",
        "print('Test loss:', test_loss)\n",
        "print('Test accuracy:', test_accuracy)"
      ],
      "metadata": {
        "id": "eVsFLe1qxlC7"
      },
      "execution_count": null,
      "outputs": []
    }
  ]
}