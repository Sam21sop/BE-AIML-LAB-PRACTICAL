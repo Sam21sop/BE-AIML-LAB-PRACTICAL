{
  "nbformat": 4,
  "nbformat_minor": 0,
  "metadata": {
    "colab": {
      "provenance": [],
      "authorship_tag": "ABX9TyM3UF2NUT+RjWnjSp21J1i1"
    },
    "kernelspec": {
      "name": "python3",
      "display_name": "Python 3"
    },
    "language_info": {
      "name": "python"
    }
  },
  "cells": [
    {
      "cell_type": "markdown",
      "source": [
        "### Study of Deep Learning Packages: Tensorflow, Keras, Theano and PyTorch. Document the distinctfeatures and functionality of the packages."
      ],
      "metadata": {
        "id": "c_xR9KysY7E6"
      }
    },
    {
      "cell_type": "markdown",
      "source": [
        "Note: Use a suitable dataset forthe implementation of the following assignments."
      ],
      "metadata": {
        "id": "HBo42I3qZFV8"
      }
    },
    {
      "cell_type": "markdown",
      "source": [
        "### Implementing Feed-forward neural networks with Keras and TensorFlow\n",
        "a. Import the necessary packages\n",
        "\n",
        "b. Load the training and testing data (MNIST/CIFAR10)\n",
        "\n",
        "c. Define the network architecture using Keras\n",
        "\n",
        "d. Train the model using SGD\n",
        "\n",
        "e. Evaluate the network\n",
        "\n",
        "f. Plot the training loss and accuracy\n"
      ],
      "metadata": {
        "id": "NhyIXJ-BZHic"
      }
    },
    {
      "cell_type": "code",
      "source": [],
      "metadata": {
        "id": "z85TxQGLZsrb"
      },
      "execution_count": null,
      "outputs": []
    },
    {
      "cell_type": "code",
      "source": [],
      "metadata": {
        "id": "yZcxnc1uZskA"
      },
      "execution_count": null,
      "outputs": []
    },
    {
      "cell_type": "code",
      "source": [],
      "metadata": {
        "id": "TaZULJ0lZsg6"
      },
      "execution_count": null,
      "outputs": []
    },
    {
      "cell_type": "markdown",
      "source": [
        "### Build the Image classification model by dividing the model into the following fourstages:\n",
        "a. Loading and preprocessing the image data\n",
        "\n",
        "b. Defining the model’s architecture\n",
        "\n",
        "c. Training the model\n",
        "\n",
        "d. Estimating the model’s performance"
      ],
      "metadata": {
        "id": "ipv0vnw5ZO2c"
      }
    },
    {
      "cell_type": "code",
      "source": [],
      "metadata": {
        "id": "ahhIuVO7Zr0q"
      },
      "execution_count": null,
      "outputs": []
    },
    {
      "cell_type": "code",
      "source": [],
      "metadata": {
        "id": "CC02OLgDZrx1"
      },
      "execution_count": null,
      "outputs": []
    },
    {
      "cell_type": "code",
      "source": [],
      "metadata": {
        "id": "_XEYMJbnZrvE"
      },
      "execution_count": null,
      "outputs": []
    },
    {
      "cell_type": "markdown",
      "source": [
        "### Use Autoencoder to implement anomaly detection. Build the model by using the following:\n",
        "a. Import required libraries\n",
        "\n",
        "b. Upload/access the dataset\n",
        "\n",
        "c. The encoder converts it into a latent representation\n",
        "\n",
        "d. Decoder networks convert it back to the original input\n",
        "\n",
        "e. Compile the models with Optimizer, Loss, and Evaluation Metrics"
      ],
      "metadata": {
        "id": "hD7cHJKgZXB7"
      }
    },
    {
      "cell_type": "code",
      "source": [],
      "metadata": {
        "id": "MqYL7tMQZrIT"
      },
      "execution_count": null,
      "outputs": []
    },
    {
      "cell_type": "code",
      "source": [],
      "metadata": {
        "id": "dHU1OGa4ZrFc"
      },
      "execution_count": null,
      "outputs": []
    },
    {
      "cell_type": "code",
      "source": [],
      "metadata": {
        "id": "9o2W8PWZZwZU"
      },
      "execution_count": null,
      "outputs": []
    },
    {
      "cell_type": "markdown",
      "source": [
        "### Implement the Continuous Bag of Words (CBOW) Model. Stages can be:\n",
        "a. Data preparation\n",
        "\n",
        "b. Generate training data\n",
        "\n",
        "c. Train model\n",
        "\n",
        "d. Output"
      ],
      "metadata": {
        "id": "3cf_AA_IZcBK"
      }
    },
    {
      "cell_type": "code",
      "source": [],
      "metadata": {
        "id": "ovUyHSuOZxIq"
      },
      "execution_count": null,
      "outputs": []
    },
    {
      "cell_type": "code",
      "source": [],
      "metadata": {
        "id": "YA0QfBkyZqMJ"
      },
      "execution_count": null,
      "outputs": []
    },
    {
      "cell_type": "code",
      "source": [],
      "metadata": {
        "id": "-cujMXMQZqJa"
      },
      "execution_count": null,
      "outputs": []
    },
    {
      "cell_type": "markdown",
      "source": [
        "### Object detection using Transfer Learning of CNN architectures\n",
        "a. Load in a pre-trained CNN model trained on a large dataset\n",
        "\n",
        "b. Freeze parameters(weights) in the model’s lower convolutional layers\n",
        "\n",
        "c. Add a custom classifier with several layers of trainable parameters to model\n",
        "\n",
        "d. Train classifier layers on training data available for the task\n",
        "\n",
        "e. Fine-tune hyperparameters and unfreeze more layers as needed"
      ],
      "metadata": {
        "id": "JYfwfRK6ZhkU"
      }
    },
    {
      "cell_type": "code",
      "execution_count": null,
      "metadata": {
        "id": "j2-v9RtnYUb2"
      },
      "outputs": [],
      "source": []
    },
    {
      "cell_type": "code",
      "source": [],
      "metadata": {
        "id": "_j8cSMb1ZyPW"
      },
      "execution_count": null,
      "outputs": []
    },
    {
      "cell_type": "code",
      "source": [],
      "metadata": {
        "id": "7NC2ig6JZyMj"
      },
      "execution_count": null,
      "outputs": []
    }
  ]
}