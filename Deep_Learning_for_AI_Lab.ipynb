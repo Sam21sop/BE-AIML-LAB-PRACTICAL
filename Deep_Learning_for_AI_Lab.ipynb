{
  "nbformat": 4,
  "nbformat_minor": 0,
  "metadata": {
    "colab": {
      "provenance": [],
      "collapsed_sections": [
        "NhyIXJ-BZHic",
        "ipv0vnw5ZO2c",
        "hD7cHJKgZXB7"
      ],
      "authorship_tag": "ABX9TyMRiXYpmB63BBOf4uLkeJTC"
    },
    "kernelspec": {
      "name": "python3",
      "display_name": "Python 3"
    },
    "language_info": {
      "name": "python"
    }
  },
  "cells": [
    {
      "cell_type": "markdown",
      "source": [
        "### Study of Deep Learning Packages: Tensorflow, Keras, Theano and PyTorch. Document the distinctfeatures and functionality of the packages."
      ],
      "metadata": {
        "id": "c_xR9KysY7E6"
      }
    },
    {
      "cell_type": "markdown",
      "source": [
        "Note: Use a suitable dataset forthe implementation of the following assignments."
      ],
      "metadata": {
        "id": "HBo42I3qZFV8"
      }
    },
    {
      "cell_type": "markdown",
      "source": [
        "### Implementing Feed-forward neural networks with Keras and TensorFlow\n"
      ],
      "metadata": {
        "id": "NhyIXJ-BZHic"
      }
    },
    {
      "cell_type": "markdown",
      "source": [
        "**Theory**\n",
        "\n",
        "Feed-forward neural networks are a type of artificial neural network where the information flows in one direction only, from the input layer to the output layer. Each layer of the network consists of a number of neurons, which are connected to the neurons in the next layer.\n",
        "\n",
        "The neurons in each layer perform a non-linear transformation of the input they receive from the previous layer. The output of each neuron is then passed to the next layer, until the output layer is reached.\n",
        "\n",
        "The output layer of the network produces the final output, which is a prediction of the class of the input data.\n",
        "\n",
        "Feed-forward neural networks are trained using a process called supervised learning. In supervised learning, we have a set of training data, which consists of input-output pairs. The goal is to train the network to produce the correct output for"
      ],
      "metadata": {
        "id": "0RGyfoQWuXg1"
      }
    },
    {
      "cell_type": "markdown",
      "source": [
        "a. Import the necessary packages\n",
        "\n"
      ],
      "metadata": {
        "id": "bt9iIQqZtVZD"
      }
    },
    {
      "cell_type": "code",
      "source": [
        "import numpy as np\n",
        "import tensorflow as tf\n",
        "from tensorflow.keras.models import Sequential\n",
        "from tensorflow.keras.layers import Dense\n",
        "from tensorflow.keras.datasets import mnist\n",
        "import matplotlib.pyplot as plt"
      ],
      "metadata": {
        "id": "z85TxQGLZsrb"
      },
      "execution_count": null,
      "outputs": []
    },
    {
      "cell_type": "markdown",
      "source": [
        "\n",
        "b. Load the training and testing data (MNIST/CIFAR10)\n",
        "\n"
      ],
      "metadata": {
        "id": "T-V6UFmktYCU"
      }
    },
    {
      "cell_type": "code",
      "source": [
        "# Load the MNIST dataset\n",
        "(x_train, y_train), (x_test, y_test) = mnist.load_data()\n",
        "\n",
        "#normalize the input data to range [0, 1]\n",
        "x_train = x_train.astype('float32') / 255.0\n",
        "x_test = x_test.astype('float32') / 255.0\n",
        "\n",
        "#flatten the input data (28 X 28 images to 784 pixels)\n",
        "x_train = x_train.reshape(-1, 784)\n",
        "x_test = x_test.reshape(-1, 784)"
      ],
      "metadata": {
        "id": "yZcxnc1uZskA"
      },
      "execution_count": null,
      "outputs": []
    },
    {
      "cell_type": "markdown",
      "source": [
        "c. Define the network architecture using Keras\n"
      ],
      "metadata": {
        "id": "I_8gbhSOtaXj"
      }
    },
    {
      "cell_type": "code",
      "source": [
        "model = Sequential()\n",
        "model.add(Dense(128, activation='relu', input_shape=(784,)))\n",
        "model.add(Dense(64, activation='relu'))\n",
        "model.add(Dense(10, activation='softmax'))\n"
      ],
      "metadata": {
        "id": "j4OhWfpStf_D"
      },
      "execution_count": null,
      "outputs": []
    },
    {
      "cell_type": "markdown",
      "source": [
        "\n",
        "d. Train the model using SGD\n",
        "\n"
      ],
      "metadata": {
        "id": "YcU9H3_gtdQ9"
      }
    },
    {
      "cell_type": "code",
      "source": [
        "# from keras.src.engine.training import optimizer\n",
        "# compile the model\n",
        "model.compile(optimizer='sgd', loss='sparse_categorical_crossentropy', metrics=['accuracy'])\n",
        "\n",
        "# Train the model\n",
        "history = model.fit(x_train, y_train, epochs=10, batch_size=64, validation_split=0.2)\n"
      ],
      "metadata": {
        "id": "ohn4J38Itc5c",
        "colab": {
          "base_uri": "https://localhost:8080/"
        },
        "outputId": "5551ccac-3b3b-48c5-c857-4a5488d89d5e"
      },
      "execution_count": null,
      "outputs": [
        {
          "output_type": "stream",
          "name": "stdout",
          "text": [
            "Epoch 1/10\n",
            "750/750 [==============================] - 3s 4ms/step - loss: 1.0519 - accuracy: 0.7329 - val_loss: 0.4534 - val_accuracy: 0.8778\n",
            "Epoch 2/10\n",
            "750/750 [==============================] - 4s 5ms/step - loss: 0.4111 - accuracy: 0.8863 - val_loss: 0.3339 - val_accuracy: 0.9061\n",
            "Epoch 3/10\n",
            "750/750 [==============================] - 3s 3ms/step - loss: 0.3354 - accuracy: 0.9050 - val_loss: 0.2917 - val_accuracy: 0.9158\n",
            "Epoch 4/10\n",
            "750/750 [==============================] - 3s 4ms/step - loss: 0.2975 - accuracy: 0.9156 - val_loss: 0.2640 - val_accuracy: 0.9233\n",
            "Epoch 5/10\n",
            "750/750 [==============================] - 3s 4ms/step - loss: 0.2706 - accuracy: 0.9226 - val_loss: 0.2475 - val_accuracy: 0.9298\n",
            "Epoch 6/10\n",
            "750/750 [==============================] - 4s 5ms/step - loss: 0.2491 - accuracy: 0.9296 - val_loss: 0.2285 - val_accuracy: 0.9342\n",
            "Epoch 7/10\n",
            "750/750 [==============================] - 2s 3ms/step - loss: 0.2308 - accuracy: 0.9345 - val_loss: 0.2155 - val_accuracy: 0.9396\n",
            "Epoch 8/10\n",
            "750/750 [==============================] - 3s 4ms/step - loss: 0.2149 - accuracy: 0.9386 - val_loss: 0.2045 - val_accuracy: 0.9425\n",
            "Epoch 9/10\n",
            "750/750 [==============================] - 3s 4ms/step - loss: 0.2013 - accuracy: 0.9418 - val_loss: 0.1947 - val_accuracy: 0.9447\n",
            "Epoch 10/10\n",
            "750/750 [==============================] - 3s 5ms/step - loss: 0.1891 - accuracy: 0.9458 - val_loss: 0.1845 - val_accuracy: 0.9488\n"
          ]
        }
      ]
    },
    {
      "cell_type": "markdown",
      "source": [
        "e. Evaluate the network\n",
        "\n"
      ],
      "metadata": {
        "id": "IL0QENMqtgr7"
      }
    },
    {
      "cell_type": "code",
      "source": [
        "test_loss, test_accuracy = model.evaluate(x_test, y_test)\n",
        "print(f'Test Loss: {test_loss:.4f}')\n",
        "print(f'Test Accuracy: {test_accuracy:.4f}')"
      ],
      "metadata": {
        "id": "TaZULJ0lZsg6",
        "colab": {
          "base_uri": "https://localhost:8080/"
        },
        "outputId": "7d335d81-238a-4bc7-ada3-c2c4d773beac"
      },
      "execution_count": null,
      "outputs": [
        {
          "output_type": "stream",
          "name": "stdout",
          "text": [
            "313/313 [==============================] - 1s 3ms/step - loss: 0.1823 - accuracy: 0.9467\n",
            "Test Loss: 0.1823\n",
            "Test Accuracy: 0.9467\n"
          ]
        }
      ]
    },
    {
      "cell_type": "markdown",
      "source": [
        "f. Plot the training loss and accuracy"
      ],
      "metadata": {
        "id": "U_7ad3ebti0D"
      }
    },
    {
      "cell_type": "code",
      "source": [
        "train_loss = history.history['loss']\n",
        "val_loss = history.history['val_loss']\n",
        "train_acc = history.history['accuracy']\n",
        "val_acc = history.history['val_accuracy']\n",
        "epochs = range(1, len(train_loss) + 1)"
      ],
      "metadata": {
        "id": "VQsn6Nb4tkdj"
      },
      "execution_count": null,
      "outputs": []
    },
    {
      "cell_type": "code",
      "source": [
        "plt.figure(figsize=(12, 5))\n",
        "plt.subplot(1, 2, 1)\n",
        "plt.plot(epochs, train_loss, 'b', label='Training Loss')\n",
        "plt.plot(epochs, val_loss, 'r', label='Validation Loss')\n",
        "plt.title('Training and validation Loss')\n",
        "plt.xlabel(\"Epochs\")\n",
        "plt.ylabel(\"Loss\")\n",
        "plt.legend()\n",
        "\n",
        "plt.subplot(1, 2, 2)\n",
        "plt.plot(epochs, train_acc, 'b', label='Training Accuracy')\n",
        "plt.plot(epochs, val_acc, 'b', label='Validation Accuracy')\n",
        "plt.title('Training and Validation Accuracy')\n",
        "plt.xlabel('Epochs')\n",
        "plt.ylabel('Accuracy')\n",
        "plt.legend()\n",
        "\n",
        "plt.tight_layout()\n",
        "plt.show()"
      ],
      "metadata": {
        "id": "KPafbk3JtkO-",
        "colab": {
          "base_uri": "https://localhost:8080/",
          "height": 297
        },
        "outputId": "7236ad2d-4891-46a3-bfa7-102b499bf2d1"
      },
      "execution_count": null,
      "outputs": [
        {
          "output_type": "display_data",
          "data": {
            "text/plain": [
              "<Figure size 1200x500 with 2 Axes>"
            ],
            "image/png": "[encoded data removed]"
          },
          "metadata": {}
        }
      ]
    },
    {
      "cell_type": "code",
      "source": [],
      "metadata": {
        "id": "VtqHFzq1bfhr"
      },
      "execution_count": null,
      "outputs": []
    },
    {
      "cell_type": "markdown",
      "source": [
        "### Build the Image classification model by dividing the model into the following fourstages:\n"
      ],
      "metadata": {
        "id": "ipv0vnw5ZO2c"
      }
    },
    {
      "cell_type": "markdown",
      "source": [
        "**Theory**\n",
        "\n",
        "Image classification models are typically trained using a supervised learning approach. In supervised learning, we have a set of training data, which consists of input-output pairs. The goal is to train the model to produce the correct output for a given input.\n",
        "\n",
        "In the case of image classification, the input is an image and the output is the class of the image. For example, the input image might be a picture of a cat and the output might be the class \"cat\".\n",
        "\n",
        "The model is trained by feeding it the training images and adjusting its parameters so that it produces the correct output for each image. The training process is typically iterative, meaning that we train the model for a number of epochs, and then evaluate the model’s performance on the validation data. If the model is not performing well on the validation data, we can adjust the model’s parameters and train the model for more epochs.\n",
        "\n",
        "Once the model has been trained, we can estimate its performance on the test data. This involves feeding the test images to the model and measuring the model’s accuracy. The accuracy of the model is the percentage of test images that the model correctly classifies."
      ],
      "metadata": {
        "id": "Oa7n7P3uu_y6"
      }
    },
    {
      "cell_type": "markdown",
      "source": [
        "a. Loading and preprocessing the image data\n",
        "\n"
      ],
      "metadata": {
        "id": "W2dZqgW7vEHK"
      }
    },
    {
      "cell_type": "code",
      "source": [
        "import numpy as np\n",
        "import tensorflow as tf\n",
        "from tensorflow.keras.datasets import cifar10\n",
        "from tensorflow.keras.models import Sequential\n",
        "from tensorflow.keras.layers import Conv2D, MaxPooling2D, Flatten, Dense\n",
        "from tensorflow.keras.utils import to_categorical\n",
        "\n",
        "# Load the MNIST dataset\n",
        "(x_train, y_train), (x_test, y_test) = cifar10.load_data()\n",
        "\n",
        "# Preprocess the image data\n",
        "x_train = x_train.astype('float32') / 255.0\n",
        "x_test = x_test.astype('float32') / 255.0\n",
        "\n",
        "#one hot encoding\n",
        "y_train = to_categorical(y_train, 10)\n",
        "y_test = to_categorical(y_test, 10)"
      ],
      "metadata": {
        "id": "ahhIuVO7Zr0q",
        "colab": {
          "base_uri": "https://localhost:8080/"
        },
        "outputId": "478201c9-4864-4db5-9e49-5c55fefeb962"
      },
      "execution_count": null,
      "outputs": [
        {
          "output_type": "stream",
          "name": "stdout",
          "text": [
            "Downloading data from https://www.cs.toronto.edu/~kriz/cifar-10-python.tar.gz\n",
            "170498071/170498071 [==============================] - 10s 0us/step\n"
          ]
        }
      ]
    },
    {
      "cell_type": "markdown",
      "source": [
        "b. Defining the model’s architecture\n"
      ],
      "metadata": {
        "id": "7kgBFovAvGIC"
      }
    },
    {
      "cell_type": "code",
      "source": [
        "# Define the model architecture\n",
        "model = Sequential()\n",
        "model.add(Conv2D(32, (3, 3), activation='relu', input_shape=(32, 32, 3)))\n",
        "model.add(MaxPooling2D((2, 2)))\n",
        "model.add(Conv2D(64, (3, 3), activation='relu'))\n",
        "model.add(MaxPooling2D((2, 2)))\n",
        "model.add(Conv2D(64, (3, 3), activation='relu'))\n",
        "model.add(Flatten())\n",
        "model.add(Dense(64, activation='relu'))\n",
        "model.add(Dense(10, activation='softmax'))"
      ],
      "metadata": {
        "id": "CC02OLgDZrx1"
      },
      "execution_count": null,
      "outputs": []
    },
    {
      "cell_type": "markdown",
      "source": [
        "\n",
        "c. Training the model\n"
      ],
      "metadata": {
        "id": "ZkhFt-b2vIJS"
      }
    },
    {
      "cell_type": "code",
      "source": [
        "# Compile the model\n",
        "model.compile(optimizer='adam', loss='categorical_crossentropy', metrics=['accuracy'])\n",
        "\n",
        "# Train the model\n",
        "history = model.fit(x_train, y_train, epochs=10, batch_size=64, validation_data=(x_test, y_test))"
      ],
      "metadata": {
        "id": "_XEYMJbnZrvE",
        "colab": {
          "base_uri": "https://localhost:8080/"
        },
        "outputId": "778d6226-03ba-4a74-e022-4d38cf65a286"
      },
      "execution_count": null,
      "outputs": [
        {
          "output_type": "stream",
          "name": "stdout",
          "text": [
            "Epoch 1/10\n",
            "782/782 [==============================] - 73s 93ms/step - loss: 1.5413 - accuracy: 0.4360 - val_loss: 1.2850 - val_accuracy: 0.5384\n",
            "Epoch 2/10\n",
            "782/782 [==============================] - 69s 89ms/step - loss: 1.1884 - accuracy: 0.5786 - val_loss: 1.1246 - val_accuracy: 0.6005\n",
            "Epoch 3/10\n",
            "782/782 [==============================] - 65s 83ms/step - loss: 1.0576 - accuracy: 0.6288 - val_loss: 1.0589 - val_accuracy: 0.6321\n",
            "Epoch 4/10\n",
            "782/782 [==============================] - 64s 82ms/step - loss: 0.9573 - accuracy: 0.6635 - val_loss: 0.9678 - val_accuracy: 0.6577\n",
            "Epoch 5/10\n",
            "782/782 [==============================] - 67s 86ms/step - loss: 0.8804 - accuracy: 0.6913 - val_loss: 0.9588 - val_accuracy: 0.6629\n",
            "Epoch 6/10\n",
            "782/782 [==============================] - 67s 85ms/step - loss: 0.8195 - accuracy: 0.7118 - val_loss: 0.8939 - val_accuracy: 0.6868\n",
            "Epoch 7/10\n",
            "782/782 [==============================] - 83s 106ms/step - loss: 0.7747 - accuracy: 0.7261 - val_loss: 0.9572 - val_accuracy: 0.6739\n",
            "Epoch 8/10\n",
            "782/782 [==============================] - 75s 95ms/step - loss: 0.7275 - accuracy: 0.7451 - val_loss: 0.8591 - val_accuracy: 0.7051\n",
            "Epoch 9/10\n",
            "782/782 [==============================] - 67s 86ms/step - loss: 0.6846 - accuracy: 0.7592 - val_loss: 0.8723 - val_accuracy: 0.6987\n",
            "Epoch 10/10\n",
            "782/782 [==============================] - 77s 98ms/step - loss: 0.6509 - accuracy: 0.7704 - val_loss: 0.8485 - val_accuracy: 0.7130\n"
          ]
        }
      ]
    },
    {
      "cell_type": "markdown",
      "source": [
        "\n",
        "d. Estimating the model’s performance"
      ],
      "metadata": {
        "id": "jikRLjxpvKWS"
      }
    },
    {
      "cell_type": "code",
      "source": [
        "# Evaluate the model\n",
        "test_loss, test_accuracy = model.evaluate(x_test, y_test)\n",
        "\n",
        "print(f'Test loss: {test_loss:.4f}')\n",
        "print(f'Test accuracy: {test_accuracy:.4f}')"
      ],
      "metadata": {
        "id": "kbqCffCAvKxy",
        "colab": {
          "base_uri": "https://localhost:8080/"
        },
        "outputId": "85f693f9-7e0c-41d8-e1a3-2b6037be3f53"
      },
      "execution_count": null,
      "outputs": [
        {
          "output_type": "stream",
          "name": "stdout",
          "text": [
            "313/313 [==============================] - 4s 13ms/step - loss: 0.8485 - accuracy: 0.7130\n",
            "Test loss: 0.8485\n",
            "Test accuracy: 0.7130\n"
          ]
        }
      ]
    },
    {
      "cell_type": "code",
      "source": [],
      "metadata": {
        "id": "6LxGPWADvNJ0"
      },
      "execution_count": null,
      "outputs": []
    },
    {
      "cell_type": "markdown",
      "source": [
        "### Use Autoencoder to implement anomaly detection. Build the model by using the following:\n"
      ],
      "metadata": {
        "id": "hD7cHJKgZXB7"
      }
    },
    {
      "cell_type": "markdown",
      "source": [
        "**Theory**\n",
        "\n",
        "Autoencoders are a type of neural network that is trained to reconstruct its input. The encoder part of the autoencoder compresses the input data into a latent representation, and the decoder part of the autoencoder reconstructs the input data from the latent representation.\n",
        "\n",
        "Autoencoders can be used for anomaly detection by comparing the reconstructed output to the original input. If the reconstruction error is high, then the input data is likely to be anomalous."
      ],
      "metadata": {
        "id": "21mhN8utwOC5"
      }
    },
    {
      "cell_type": "markdown",
      "source": [
        "a. Import required libraries\n",
        "\n"
      ],
      "metadata": {
        "id": "A_H_seeFvxLJ"
      }
    },
    {
      "cell_type": "code",
      "source": [
        "import numpy as np\n",
        "import tensorflow as tf\n",
        "from tensorflow.keras.models import Model\n",
        "from tensorflow.keras.layers import Dense, Input\n",
        "from tensorflow.keras.datasets import mnist\n",
        "from sklearn.model_selection import train_test_split\n",
        "import matplotlib.pyplot as plt"
      ],
      "metadata": {
        "id": "MqYL7tMQZrIT"
      },
      "execution_count": null,
      "outputs": []
    },
    {
      "cell_type": "markdown",
      "source": [
        "b. Upload/access the dataset\n",
        "\n"
      ],
      "metadata": {
        "id": "UPHUU4m7vzJS"
      }
    },
    {
      "cell_type": "code",
      "source": [
        "# Load the MNIST dataset\n",
        "(x_train, y_train), (x_test, y_test) = mnist.load_data()\n",
        "\n",
        "# Preprocess the image data\n",
        "x_train = x_train.astype('float32') / 255.0\n",
        "x_test = x_test.astype('float32') / 255.0\n",
        "\n",
        "x_train = x_train.reshape((len(x_train), np.prod(x_train.shape[1:])))\n",
        "x_test = x_test.reshape((len(x_test), np.prod(x_test.shape[1:])))\n",
        "\n",
        "\n",
        "#split data into training and tesing\n",
        "x_train, x_val = train_test_split(x_train, test_size=0.2, random_state=42)"
      ],
      "metadata": {
        "id": "dHU1OGa4ZrFc"
      },
      "execution_count": null,
      "outputs": []
    },
    {
      "cell_type": "markdown",
      "source": [
        "c. The encoder converts it into a latent representation\n",
        "\n"
      ],
      "metadata": {
        "id": "OTt8qyiNv2UC"
      }
    },
    {
      "cell_type": "code",
      "source": [
        "input_layer = Input(shape=(x_train.shape[1],))\n",
        "encoded = Dense(128, activation='relu')(input_layer)\n",
        "encoded = Dense(64, activation='relu')(encoded)\n",
        "encoded = Dense(32, activation='relu')(encoded)\n",
        "\n",
        "encoder = Model(input_layer, encoded)"
      ],
      "metadata": {
        "id": "u6jXs2Svv1zE"
      },
      "execution_count": null,
      "outputs": []
    },
    {
      "cell_type": "markdown",
      "source": [
        "d. Decoder networks convert it back to the original input\n",
        "\n"
      ],
      "metadata": {
        "id": "JWp3nZ8lv4nZ"
      }
    },
    {
      "cell_type": "code",
      "source": [
        "\n",
        "decoded = Dense(64, activation='relu')(encoded)\n",
        "decoded = Dense(128, activation='relu')(decoded)\n",
        "decoded = Dense(x_train.shape[1], activation='sigmoid')(decoded)\n",
        "\n",
        "autoencoder = Model(input_layer, decoded)"
      ],
      "metadata": {
        "id": "3tYB00J5v1kK"
      },
      "execution_count": null,
      "outputs": []
    },
    {
      "cell_type": "markdown",
      "source": [
        "e. Compile the models with Optimizer, Loss, and Evaluation Metrics"
      ],
      "metadata": {
        "id": "GcTk-EQWv6m7"
      }
    },
    {
      "cell_type": "code",
      "source": [
        "# Compile the encoder model\n",
        "autoencoder.compile(optimizer='adam', loss='mean_squared_error')"
      ],
      "metadata": {
        "id": "9o2W8PWZZwZU"
      },
      "execution_count": null,
      "outputs": []
    },
    {
      "cell_type": "code",
      "source": [
        "#train the autoencoder on the training data\n",
        "autoencoder.fit(x_train, x_train, epochs=10, batch_size=32, validation_data=(x_val, x_val))"
      ],
      "metadata": {
        "id": "6f4adKRIv73o",
        "colab": {
          "base_uri": "https://localhost:8080/"
        },
        "outputId": "cb01b998-9c94-49cf-ed6c-b144c917d4af"
      },
      "execution_count": null,
      "outputs": [
        {
          "output_type": "stream",
          "name": "stdout",
          "text": [
            "Epoch 1/10\n",
            "1500/1500 [==============================] - 11s 7ms/step - loss: 0.0329 - val_loss: 0.0196\n",
            "Epoch 2/10\n",
            "1500/1500 [==============================] - 14s 9ms/step - loss: 0.0173 - val_loss: 0.0156\n",
            "Epoch 3/10\n",
            "1500/1500 [==============================] - 17s 11ms/step - loss: 0.0142 - val_loss: 0.0135\n",
            "Epoch 4/10\n",
            "1500/1500 [==============================] - 10s 7ms/step - loss: 0.0125 - val_loss: 0.0119\n",
            "Epoch 5/10\n",
            "1500/1500 [==============================] - 17s 11ms/step - loss: 0.0115 - val_loss: 0.0112\n",
            "Epoch 6/10\n",
            "1500/1500 [==============================] - 18s 12ms/step - loss: 0.0109 - val_loss: 0.0110\n",
            "Epoch 7/10\n",
            "1500/1500 [==============================] - 15s 10ms/step - loss: 0.0104 - val_loss: 0.0104\n",
            "Epoch 8/10\n",
            "1500/1500 [==============================] - 14s 9ms/step - loss: 0.0100 - val_loss: 0.0102\n",
            "Epoch 9/10\n",
            "1500/1500 [==============================] - 14s 9ms/step - loss: 0.0097 - val_loss: 0.0098\n",
            "Epoch 10/10\n",
            "1500/1500 [==============================] - 12s 8ms/step - loss: 0.0094 - val_loss: 0.0094\n"
          ]
        },
        {
          "output_type": "execute_result",
          "data": {
            "text/plain": [
              "<keras.src.callbacks.History at 0x798a48c35840>"
            ]
          },
          "metadata": {},
          "execution_count": 33
        }
      ]
    },
    {
      "cell_type": "code",
      "source": [
        "#evauate the autoencoder on the training data\n",
        "reconstruction_error = np.mean(np.square(x_test - autoencoder.predict(x_test)), axis=1)\n",
        "\n",
        "#set the threshold anomaly detection\n",
        "threshold = np.percentile(reconstruction_error, 95)\n",
        "\n",
        "#detect the anomaly in the test data\n",
        "anomalies = x_test[reconstruction_error > threshold]"
      ],
      "metadata": {
        "id": "MC-zt03EwbKp",
        "colab": {
          "base_uri": "https://localhost:8080/"
        },
        "outputId": "f51272c0-3ff2-41f8-8ca7-b11da5d2029a"
      },
      "execution_count": null,
      "outputs": [
        {
          "output_type": "stream",
          "name": "stdout",
          "text": [
            "313/313 [==============================] - 1s 3ms/step\n"
          ]
        }
      ]
    },
    {
      "cell_type": "code",
      "source": [
        "#display the some detected anomalies\n",
        "n_anomalies_to_display = 5\n",
        "for i in range(n_anomalies_to_display):\n",
        "    plt.subplot(1, n_anomalies_to_display, i + 1)\n",
        "    plt.imshow(anomalies[i].reshape(28, 28), cmap='gray')\n",
        "    plt.title(f'Anomaly {i + 1}')\n",
        "    plt.axis('off')\n",
        "plt.show()"
      ],
      "metadata": {
        "colab": {
          "base_uri": "https://localhost:8080/",
          "height": 144
        },
        "id": "yJiUFxgXpfR8",
        "outputId": "66b75bf3-bf1d-4001-dbb4-71bbe4e71136"
      },
      "execution_count": null,
      "outputs": [
        {
          "output_type": "display_data",
          "data": {
            "text/plain": [
              "<Figure size 640x480 with 5 Axes>"
            ],
            "image/png": "[encoded data removed]"
          },
          "metadata": {}
        }
      ]
    },
    {
      "cell_type": "code",
      "source": [],
      "metadata": {
        "id": "BCPHRt2YpfOh"
      },
      "execution_count": null,
      "outputs": []
    },
    {
      "cell_type": "markdown",
      "source": [
        "### Implement the Continuous Bag of Words (CBOW) Model. Stages can be:\n"
      ],
      "metadata": {
        "id": "3cf_AA_IZcBK"
      }
    },
    {
      "cell_type": "markdown",
      "source": [
        "**Theory**\n",
        "\n",
        "The Continuous Bag of Words (CBOW) model is a neural network model that is used to generate word embeddings. Word embeddings are vectors of numbers that represent the meaning of words.\n",
        "\n",
        "The CBOW model is trained on a corpus of text. The corpus is split into pairs of words, where the center word is the word that we want to predict and the context words are the words that surround the center word in the text.\n",
        "\n",
        "The CBOW model uses a neural network to predict the center word for each pair of words. The neural network is trained using the backpropagation algorithm.\n",
        "\n",
        "Once the model has been trained, we can use it to generate word embeddings. To generate a word embedding, we feed the word to the neural network and the neural network will output a vector of numbers. This vector of numbers is the word embedding.\n",
        "\n",
        "Word embeddings can be used to perform a variety of tasks, such as text classification, sentiment analysis, and machine translation. For example, we can use word embeddings to train a classifier that can classify text as positive or negative."
      ],
      "metadata": {
        "id": "giZZUBzDwsKA"
      }
    },
    {
      "cell_type": "markdown",
      "source": [
        "a. Data preparation\n",
        "\n"
      ],
      "metadata": {
        "id": "Cd_-rpq1whPu"
      }
    },
    {
      "cell_type": "code",
      "source": [
        "corpus = [\n",
        "    \"I like to learn deep learning\",\n",
        "    \"Deep learning is interesting\",\n",
        "    \"I enjoy studying deep learning\"\n",
        "]\n"
      ],
      "metadata": {
        "id": "ovUyHSuOZxIq"
      },
      "execution_count": 37,
      "outputs": []
    },
    {
      "cell_type": "markdown",
      "source": [
        "b. Generate training data\n",
        "\n"
      ],
      "metadata": {
        "id": "IO6MWZaYwjCY"
      }
    },
    {
      "cell_type": "code",
      "source": [
        "from tensorflow.keras.preprocessing.text import Tokenizer\n",
        "from tensorflow.keras.preprocessing.sequence import skipgrams\n",
        "\n",
        "# Tokenize the corpus\n",
        "tokenizer = Tokenizer()\n",
        "tokenizer.fit_on_texts(corpus)\n",
        "word2idx = tokenizer.word_index\n",
        "idx2word = {v: k for k, v in word2idx.items()}\n",
        "\n",
        "# Generate training data\n",
        "vocab_size = len(word2idx) + 1\n",
        "target_words, context_words = [], []\n",
        "for sentence in corpus:\n",
        "    tokenized = tokenizer.texts_to_sequences([sentence])[0]\n",
        "    pairs, _ = skipgrams(tokenized, vocabulary_size=vocab_size, window_size=1, negative_samples=0)\n",
        "    target, context = zip(*pairs)\n",
        "    target_words.extend(target)\n",
        "    context_words.extend(context)\n"
      ],
      "metadata": {
        "id": "YA0QfBkyZqMJ"
      },
      "execution_count": 38,
      "outputs": []
    },
    {
      "cell_type": "markdown",
      "source": [
        "c. Train model\n",
        "\n"
      ],
      "metadata": {
        "id": "Mxg50ONtwkuJ"
      }
    },
    {
      "cell_type": "code",
      "source": [
        "import tensorflow as tf\n",
        "from tensorflow.keras.models import Sequential\n",
        "from tensorflow.keras.layers import Embedding, Dense, Reshape\n",
        "\n",
        "embedding_dim = 100\n",
        "\n",
        "model = Sequential()\n",
        "model.add(Embedding(input_dim=vocab_size, output_dim=embedding_dim, input_length=1))\n",
        "model.add(Reshape((embedding_dim,)))\n",
        "model.add(Dense(units=vocab_size, activation='softmax'))\n",
        "\n",
        "model.compile(loss='sparse_categorical_crossentropy', optimizer='adam')\n",
        "model.summary()\n",
        "\n",
        "# Train the model\n",
        "model.fit(x=target_words, y=context_words, epochs=50)\n"
      ],
      "metadata": {
        "id": "-cujMXMQZqJa",
        "colab": {
          "base_uri": "https://localhost:8080/"
        },
        "outputId": "41e07944-f5e8-4067-c60c-0ea427c1f9a1"
      },
      "execution_count": 39,
      "outputs": [
        {
          "output_type": "stream",
          "name": "stdout",
          "text": [
            "Model: \"sequential_2\"\n",
            "_________________________________________________________________\n",
            " Layer (type)                Output Shape              Param #   \n",
            "=================================================================\n",
            " embedding (Embedding)       (None, 1, 100)            1100      \n",
            "                                                                 \n",
            " reshape (Reshape)           (None, 100)               0         \n",
            "                                                                 \n",
            " dense_14 (Dense)            (None, 11)                1111      \n",
            "                                                                 \n",
            "=================================================================\n",
            "Total params: 2211 (8.64 KB)\n",
            "Trainable params: 2211 (8.64 KB)\n",
            "Non-trainable params: 0 (0.00 Byte)\n",
            "_________________________________________________________________\n",
            "Epoch 1/50\n",
            "1/1 [==============================] - 1s 573ms/step - loss: 2.3925\n",
            "Epoch 2/50\n",
            "1/1 [==============================] - 0s 14ms/step - loss: 2.3834\n",
            "Epoch 3/50\n",
            "1/1 [==============================] - 0s 13ms/step - loss: 2.3744\n",
            "Epoch 4/50\n",
            "1/1 [==============================] - 0s 17ms/step - loss: 2.3653\n",
            "Epoch 5/50\n",
            "1/1 [==============================] - 0s 18ms/step - loss: 2.3562\n",
            "Epoch 6/50\n",
            "1/1 [==============================] - 0s 19ms/step - loss: 2.3471\n",
            "Epoch 7/50\n",
            "1/1 [==============================] - 0s 10ms/step - loss: 2.3380\n",
            "Epoch 8/50\n",
            "1/1 [==============================] - 0s 10ms/step - loss: 2.3289\n",
            "Epoch 9/50\n",
            "1/1 [==============================] - 0s 16ms/step - loss: 2.3197\n",
            "Epoch 10/50\n",
            "1/1 [==============================] - 0s 15ms/step - loss: 2.3106\n",
            "Epoch 11/50\n",
            "1/1 [==============================] - 0s 11ms/step - loss: 2.3014\n",
            "Epoch 12/50\n",
            "1/1 [==============================] - 0s 10ms/step - loss: 2.2922\n",
            "Epoch 13/50\n",
            "1/1 [==============================] - 0s 11ms/step - loss: 2.2830\n",
            "Epoch 14/50\n",
            "1/1 [==============================] - 0s 15ms/step - loss: 2.2737\n",
            "Epoch 15/50\n",
            "1/1 [==============================] - 0s 11ms/step - loss: 2.2644\n",
            "Epoch 16/50\n",
            "1/1 [==============================] - 0s 12ms/step - loss: 2.2550\n",
            "Epoch 17/50\n",
            "1/1 [==============================] - 0s 11ms/step - loss: 2.2456\n",
            "Epoch 18/50\n",
            "1/1 [==============================] - 0s 13ms/step - loss: 2.2361\n",
            "Epoch 19/50\n",
            "1/1 [==============================] - 0s 11ms/step - loss: 2.2265\n",
            "Epoch 20/50\n",
            "1/1 [==============================] - 0s 14ms/step - loss: 2.2169\n",
            "Epoch 21/50\n",
            "1/1 [==============================] - 0s 15ms/step - loss: 2.2072\n",
            "Epoch 22/50\n",
            "1/1 [==============================] - 0s 11ms/step - loss: 2.1974\n",
            "Epoch 23/50\n",
            "1/1 [==============================] - 0s 11ms/step - loss: 2.1876\n",
            "Epoch 24/50\n",
            "1/1 [==============================] - 0s 11ms/step - loss: 2.1776\n",
            "Epoch 25/50\n",
            "1/1 [==============================] - 0s 11ms/step - loss: 2.1676\n",
            "Epoch 26/50\n",
            "1/1 [==============================] - 0s 11ms/step - loss: 2.1575\n",
            "Epoch 27/50\n",
            "1/1 [==============================] - 0s 15ms/step - loss: 2.1472\n",
            "Epoch 28/50\n",
            "1/1 [==============================] - 0s 11ms/step - loss: 2.1369\n",
            "Epoch 29/50\n",
            "1/1 [==============================] - 0s 11ms/step - loss: 2.1264\n",
            "Epoch 30/50\n",
            "1/1 [==============================] - 0s 13ms/step - loss: 2.1159\n",
            "Epoch 31/50\n",
            "1/1 [==============================] - 0s 13ms/step - loss: 2.1052\n",
            "Epoch 32/50\n",
            "1/1 [==============================] - 0s 17ms/step - loss: 2.0944\n",
            "Epoch 33/50\n",
            "1/1 [==============================] - 0s 15ms/step - loss: 2.0835\n",
            "Epoch 34/50\n",
            "1/1 [==============================] - 0s 16ms/step - loss: 2.0724\n",
            "Epoch 35/50\n",
            "1/1 [==============================] - 0s 15ms/step - loss: 2.0613\n",
            "Epoch 36/50\n",
            "1/1 [==============================] - 0s 12ms/step - loss: 2.0500\n",
            "Epoch 37/50\n",
            "1/1 [==============================] - 0s 15ms/step - loss: 2.0386\n",
            "Epoch 38/50\n",
            "1/1 [==============================] - 0s 12ms/step - loss: 2.0271\n",
            "Epoch 39/50\n",
            "1/1 [==============================] - 0s 12ms/step - loss: 2.0154\n",
            "Epoch 40/50\n",
            "1/1 [==============================] - 0s 12ms/step - loss: 2.0037\n",
            "Epoch 41/50\n",
            "1/1 [==============================] - 0s 10ms/step - loss: 1.9918\n",
            "Epoch 42/50\n",
            "1/1 [==============================] - 0s 12ms/step - loss: 1.9797\n",
            "Epoch 43/50\n",
            "1/1 [==============================] - 0s 13ms/step - loss: 1.9676\n",
            "Epoch 44/50\n",
            "1/1 [==============================] - 0s 11ms/step - loss: 1.9553\n",
            "Epoch 45/50\n",
            "1/1 [==============================] - 0s 11ms/step - loss: 1.9429\n",
            "Epoch 46/50\n",
            "1/1 [==============================] - 0s 11ms/step - loss: 1.9304\n",
            "Epoch 47/50\n",
            "1/1 [==============================] - 0s 13ms/step - loss: 1.9178\n",
            "Epoch 48/50\n",
            "1/1 [==============================] - 0s 12ms/step - loss: 1.9050\n",
            "Epoch 49/50\n",
            "1/1 [==============================] - 0s 11ms/step - loss: 1.8922\n",
            "Epoch 50/50\n",
            "1/1 [==============================] - 0s 15ms/step - loss: 1.8792\n"
          ]
        },
        {
          "output_type": "execute_result",
          "data": {
            "text/plain": [
              "<keras.src.callbacks.History at 0x798a590e9810>"
            ]
          },
          "metadata": {},
          "execution_count": 39
        }
      ]
    },
    {
      "cell_type": "markdown",
      "source": [
        "d. Output"
      ],
      "metadata": {
        "id": "ns3QV8XhwnTZ"
      }
    },
    {
      "cell_type": "code",
      "source": [
        "word_to_lookup = \"deep\"\n",
        "word_idx = word2idx[word_to_lookup]\n",
        "word_embedding = model.layers[0].get_weights()[0][word_idx]\n",
        "\n",
        "print(f\"Embedding for '{word_to_lookup}': {word_embedding}\")\n"
      ],
      "metadata": {
        "id": "3vAfLbnZwm_9",
        "colab": {
          "base_uri": "https://localhost:8080/"
        },
        "outputId": "ee30d0a4-8094-423e-c46c-e589dcf7b52e"
      },
      "execution_count": 40,
      "outputs": [
        {
          "output_type": "stream",
          "name": "stdout",
          "text": [
            "Embedding for 'deep': [ 0.06865533  0.06715781 -0.00102261 -0.07643528 -0.03289663 -0.09246635\n",
            "  0.05339681  0.07597926 -0.08832991 -0.00447567  0.04633959 -0.080202\n",
            " -0.01287815 -0.03385751  0.03189817  0.04734227 -0.01068022  0.05826271\n",
            "  0.03931115 -0.10456546  0.03248177 -0.02362246 -0.03034126 -0.04428017\n",
            "  0.00825197  0.01850161 -0.07945877  0.0403571  -0.03453278  0.00768813\n",
            "  0.0689468   0.05358195 -0.03968336  0.08365782  0.06852493 -0.00455266\n",
            " -0.02719246  0.08516931  0.00807113 -0.05724639  0.05137716  0.06275012\n",
            " -0.03854693 -0.10617433  0.01556655  0.02540123 -0.06068001 -0.0222754\n",
            " -0.01484885  0.03790306 -0.05789922 -0.0404914  -0.09001147  0.07954013\n",
            " -0.09630064 -0.00970904  0.09734959  0.0779317  -0.02982423  0.08249135\n",
            "  0.00648624 -0.00221325 -0.00940449  0.0362596   0.04362785  0.05756573\n",
            "  0.082425   -0.07785493 -0.09164883 -0.0961308   0.07816778  0.08762319\n",
            " -0.0431673  -0.08696369 -0.08790506 -0.08354709 -0.07179777 -0.00574696\n",
            " -0.06241551 -0.03623005 -0.03795512  0.08253523 -0.01597784 -0.07308492\n",
            "  0.00442083  0.08700123  0.05097701  0.08387665  0.03146407 -0.05249751\n",
            " -0.10521937 -0.10222908  0.00245325  0.04009403 -0.06637518 -0.00282627\n",
            "  0.08681864 -0.09075345  0.04150757  0.09650026]\n"
          ]
        }
      ]
    },
    {
      "cell_type": "code",
      "source": [],
      "metadata": {
        "id": "MokrBoLbwm2Y"
      },
      "execution_count": 41,
      "outputs": []
    },
    {
      "cell_type": "markdown",
      "source": [
        "### Object detection using Transfer Learning of CNN architectures\n"
      ],
      "metadata": {
        "id": "JYfwfRK6ZhkU"
      }
    },
    {
      "cell_type": "markdown",
      "source": [
        "**Theory**\n",
        "\n",
        "Transfer learning is a machine learning technique where we use a model that has already been trained on one task to train a model for a different task. This can be useful for tasks where we don't have a lot of training data or where it would be difficult and time-consuming to train a model from scratch.\n",
        "\n",
        "CNNs are a type of neural network that is well-suited for image classification and object detection. CNNs are able to learn to extract features from images that are important for classification and detection.\n",
        "\n",
        "When we use transfer learning to train a CNN for object detection, we start by loading a pre-trained CNN model that has been trained on a large dataset, such as ImageNet. We then freeze the parameters in the model's lower convolutional layers. This will prevent us from overfitting the model to our training data.\n",
        "\n",
        "We then add a custom classifier to the model. This classifier will have several layers of trainable parameters. The classifier will be trained to predict the class of each object in the image.\n",
        "\n",
        "We then train the classifier layers on the training data that we have available for the task. This will enable the model to learn to detect the objects in our training data.\n",
        "\n",
        "We may need to fine-tune the hyperparameters of the model, such as the learning rate and the number of epochs, to get the best possible performance. We may also need to unfreeze more layers of the model if it is not performing well."
      ],
      "metadata": {
        "id": "xB4kp_nexWo3"
      }
    },
    {
      "cell_type": "markdown",
      "source": [
        "a. Load in a pre-trained CNN model trained on a large dataset\n",
        "\n"
      ],
      "metadata": {
        "id": "6z7eRa7GxaWv"
      }
    },
    {
      "cell_type": "markdown",
      "source": [
        "b. Freeze parameters(weights) in the model’s lower convolutional layers\n"
      ],
      "metadata": {
        "id": "2eA9_lYMxcbP"
      }
    },
    {
      "cell_type": "markdown",
      "source": [
        "\n",
        "c. Add a custom classifier with several layers of trainable parameters to model\n",
        "\n"
      ],
      "metadata": {
        "id": "GXTgWdNnxe57"
      }
    },
    {
      "cell_type": "markdown",
      "source": [
        "d. Train classifier layers on training data available for the task\n",
        "\n"
      ],
      "metadata": {
        "id": "DB8fYKwGxhEf"
      }
    },
    {
      "cell_type": "markdown",
      "source": [
        "e. Fine-tune hyperparameters and unfreeze more layers as needed"
      ],
      "metadata": {
        "id": "LCiMswJExkeH"
      }
    },
    {
      "cell_type": "code",
      "source": [
        "import torch\n",
        "import torchvision\n",
        "from torchvision import transforms as T\n",
        "from PIL import Image\n",
        "import cv2\n",
        "from google.colab.patches import cv2_imshow"
      ],
      "metadata": {
        "id": "23CZyQSb4an8"
      },
      "execution_count": 51,
      "outputs": []
    },
    {
      "cell_type": "code",
      "execution_count": null,
      "metadata": {
        "id": "j2-v9RtnYUb2"
      },
      "outputs": [],
      "source": [
        "# Load the pre-trained model\n",
        "model = torchvision.models.detection.fasterrcnn_resnet50_fpn(pretrained=True)"
      ]
    },
    {
      "cell_type": "code",
      "source": [
        "model.eval()"
      ],
      "metadata": {
        "id": "_j8cSMb1ZyPW"
      },
      "execution_count": null,
      "outputs": []
    },
    {
      "cell_type": "code",
      "source": [
        "!wget 'http://images.cocodataset.org/val2017/000000037777.jpg'"
      ],
      "metadata": {
        "id": "7NC2ig6JZyMj"
      },
      "execution_count": null,
      "outputs": []
    },
    {
      "cell_type": "code",
      "source": [
        "ig = Image.open('/content/000000037777.jpg')"
      ],
      "metadata": {
        "id": "dP8BX8ZYxj27"
      },
      "execution_count": 60,
      "outputs": []
    },
    {
      "cell_type": "code",
      "source": [
        "transform = T.ToTensor()\n",
        "img = transform(ig)"
      ],
      "metadata": {
        "id": "eVsFLe1qxlC7"
      },
      "execution_count": 62,
      "outputs": []
    },
    {
      "cell_type": "code",
      "source": [
        "with torch.no_grad():\n",
        "    pred = model([img])"
      ],
      "metadata": {
        "id": "7LLX5STbCQ-O"
      },
      "execution_count": 63,
      "outputs": []
    },
    {
      "cell_type": "code",
      "source": [
        "pred[0].keys()"
      ],
      "metadata": {
        "id": "rtmzlw9QCypy"
      },
      "execution_count": null,
      "outputs": []
    },
    {
      "cell_type": "code",
      "source": [
        "bboxex, labels, scores = pred[0]['boxes'], pred[0]['labels'], pred[0]['scores']"
      ],
      "metadata": {
        "id": "0JEsMwl4CcYt"
      },
      "execution_count": 67,
      "outputs": []
    },
    {
      "cell_type": "code",
      "source": [
        "num = torch.argwhere(scores > 0.8).shape[0]"
      ],
      "metadata": {
        "id": "9kumq_8nDCU-"
      },
      "execution_count": 77,
      "outputs": []
    },
    {
      "cell_type": "code",
      "source": [
        "print(num)"
      ],
      "metadata": {
        "id": "dhgebz22DsrE"
      },
      "execution_count": null,
      "outputs": []
    },
    {
      "cell_type": "code",
      "source": [
        "coco_names = [\n",
        "    \"person\" , \"bicycle\" , \"car\" , \"motorcycle\" , \"airplane\" , \"bus\" , \"train\" , \"truck\" , \"boat\" , \"traffic light\" ,\n",
        "    \"fire hydrant\" , \"street sign\" , \"stop sign\" , \"parking meter\" , \"bench\" , \"bird\" , \"cat\" , \"dog\" , \"horse\" , \"sheep\" ,\n",
        "    \"cow\" , \"elephant\" , \"bear\" , \"zebra\" , \"giraffe\" , \"hat\" , \"backpack\" , \"umbrella\" , \"shoe\" , \"eye glasses\" , \"handbag\" ,\n",
        "    \"tie\" , \"suitcase\" , \"frisbee\" , \"skis\" , \"snowboard\" , \"sports ball\" , \"kite\" , \"baseball bat\" ,\n",
        "    \"baseball glove\" , \"skateboard\" , \"surfboard\" , \"tennis racket\" , \"bottle\" ,\n",
        "    \"plate\" , \"wine glass\" , \"cup\" , \"fork\" , \"knife\" , \"spoon\" , \"bowl\" ,\n",
        "    \"banana\" , \"apple\" , \"sandwich\" , \"orange\" , \"broccoli\" , \"carrot\" , \"hot dog\" ,\n",
        "    \"pizza\" , \"donut\" , \"cake\" , \"chair\" , \"couch\" , \"potted plant\" , \"bed\" ,\n",
        "    \"mirror\" , \"dining table\" , \"window\" , \"desk\" , \"toilet\" , \"door\" , \"tv\" ,\n",
        "    \"laptop\" , \"mouse\" , \"remote\" , \"keyboard\" , \"cell phone\" , \"microwave\" ,\n",
        "    \"oven\" , \"toaster\" , \"sink\" , \"refrigerator\" , \"blender\" , \"book\" ,\n",
        "    \"clock\" , \"vase\" , \"scissors\" , \"teddy bear\" , \"hair drier\" , \"toothbrush\" , \"hair brush\"\n",
        "]"
      ],
      "metadata": {
        "id": "3hqlw5r4DW1s"
      },
      "execution_count": 80,
      "outputs": []
    },
    {
      "cell_type": "code",
      "source": [
        "font = cv2.FONT_HERSHEY_SIMPLEX"
      ],
      "metadata": {
        "id": "1Xafxu6-FRxe"
      },
      "execution_count": 74,
      "outputs": []
    },
    {
      "cell_type": "code",
      "source": [
        "igg = cv2.imread('/content/000000037777.jpg')\n",
        "for i in range(num):\n",
        "    x1, y1, x2, y2 = bboxex[i].numpy().astype('int')\n",
        "    class_name = coco_names[labels.numpy()[i] - 1]\n",
        "    igg = cv2.rectangle(igg, (x1, y1), (x2, y2), (255, 0, 0), 1)\n",
        "    igg = cv2.putText(igg, class_name, (x1, y1-10), font, 0.5, (255, 0, 0), 1, cv2.LINE_AA)"
      ],
      "metadata": {
        "id": "9BF2W3WpDdXj"
      },
      "execution_count": 75,
      "outputs": []
    },
    {
      "cell_type": "code",
      "source": [
        "cv2_imshow(igg)"
      ],
      "metadata": {
        "colab": {
          "base_uri": "https://localhost:8080/",
          "height": 247
        },
        "id": "2DoxH5D2Dp4s",
        "outputId": "0c3d3c3a-9bd0-49df-ba23-76162dd62ac0"
      },
      "execution_count": 76,
      "outputs": [
        {
          "output_type": "display_data",
          "data": {
            "text/plain": [
              "<PIL.Image.Image image mode=RGB size=352x230>"
            ],
            "image/png": "[encoded data removed]"
          },
          "metadata": {}
        }
      ]
    },
    {
      "cell_type": "code",
      "source": [],
      "metadata": {
        "id": "HxgkfiqRFrgE"
      },
      "execution_count": null,
      "outputs": []
    }
  ]
}